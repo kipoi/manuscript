{
 "cells": [
  {
   "cell_type": "code",
   "execution_count": 1,
   "metadata": {},
   "outputs": [
    {
     "name": "stderr",
     "output_type": "stream",
     "text": [
      "Using TensorFlow backend.\n"
     ]
    }
   ],
   "source": [
    "import plotnine\n",
    "from plotnine import *\n",
    "from m_kipoi.config import get_data_dir, setup_matplotlib\n",
    "import json\n",
    "from m_kipoi.exp.tlearn.tfdragonn import parse_log\n",
    "from pathlib import Path\n",
    "from snakemake.io import glob_wildcards\n",
    "ddir = get_data_dir()\n",
    "setup_matplotlib()"
   ]
  },
  {
   "cell_type": "code",
   "execution_count": 7,
   "metadata": {},
   "outputs": [],
   "source": [
    "def load_results(glob_str=f\"{ddir}/processed/tlearn/models/transferred/{{task}}/eval/valid/epoch-{{epoch}}.metrics.json\"):\n",
    "    def read_result(task, epoch, glob_str):\n",
    "        fname = glob_str.format(task=task, epoch=epoch)\n",
    "        return {\"task\": task, \"epoch\": int(epoch)+1, \n",
    "                **json.loads(Path(fname).read_text())}\n",
    "    tasks, epochs,  = glob_wildcards(glob_str)\n",
    "    return pd.DataFrame([read_result(task, epoch, glob_str) for task, epoch in zip(tasks, epochs)]).sort_values(['task', 'epoch'])"
   ]
  },
  {
   "cell_type": "code",
   "execution_count": 8,
   "metadata": {},
   "outputs": [],
   "source": [
    "# Annotation\n",
    "anno = pd.read_csv(f\"{ddir}/raw/tlearn/metadata/anno.csv\")"
   ]
  },
  {
   "cell_type": "code",
   "execution_count": 9,
   "metadata": {},
   "outputs": [
    {
     "data": {
      "text/html": [
       "<div>\n",
       "<style scoped>\n",
       "    .dataframe tbody tr th:only-of-type {\n",
       "        vertical-align: middle;\n",
       "    }\n",
       "\n",
       "    .dataframe tbody tr th {\n",
       "        vertical-align: top;\n",
       "    }\n",
       "\n",
       "    .dataframe thead th {\n",
       "        text-align: right;\n",
       "    }\n",
       "</style>\n",
       "<table border=\"1\" class=\"dataframe\">\n",
       "  <thead>\n",
       "    <tr style=\"text-align: right;\">\n",
       "      <th></th>\n",
       "      <th>task</th>\n",
       "      <th>Cell_Type</th>\n",
       "    </tr>\n",
       "  </thead>\n",
       "  <tbody>\n",
       "    <tr>\n",
       "      <th>0</th>\n",
       "      <td>ENCSR000EMT</td>\n",
       "      <td>GM12878</td>\n",
       "    </tr>\n",
       "    <tr>\n",
       "      <th>1</th>\n",
       "      <td>ENCSR000EPC</td>\n",
       "      <td>K562</td>\n",
       "    </tr>\n",
       "    <tr>\n",
       "      <th>2</th>\n",
       "      <td>ENCSR452SPC</td>\n",
       "      <td>Brain</td>\n",
       "    </tr>\n",
       "    <tr>\n",
       "      <th>3</th>\n",
       "      <td>ENCSR714DIF</td>\n",
       "      <td>Mesendoderm</td>\n",
       "    </tr>\n",
       "    <tr>\n",
       "      <th>4</th>\n",
       "      <td>ENCSR917VCP</td>\n",
       "      <td>Thymus</td>\n",
       "    </tr>\n",
       "  </tbody>\n",
       "</table>\n",
       "</div>"
      ],
      "text/plain": [
       "          task    Cell_Type\n",
       "0  ENCSR000EMT      GM12878\n",
       "1  ENCSR000EPC         K562\n",
       "2  ENCSR452SPC        Brain\n",
       "3  ENCSR714DIF  Mesendoderm\n",
       "4  ENCSR917VCP      Thymus "
      ]
     },
     "execution_count": 9,
     "metadata": {},
     "output_type": "execute_result"
    }
   ],
   "source": [
    "anno.head()"
   ]
  },
  {
   "cell_type": "code",
   "execution_count": 10,
   "metadata": {},
   "outputs": [],
   "source": [
    "encode_ids = anno.task.tolist()"
   ]
  },
  {
   "cell_type": "markdown",
   "metadata": {},
   "source": [
    "## Test-set"
   ]
  },
  {
   "cell_type": "code",
   "execution_count": 11,
   "metadata": {},
   "outputs": [],
   "source": [
    "# Pre-trained \n",
    "dftn = load_results(f\"{ddir}/processed/tlearn/models/transferred/{{task}}/eval/test/epoch-{{epoch}}.metrics.json\").rename(columns={\"auprc\": \"auPRC\"})"
   ]
  },
  {
   "cell_type": "code",
   "execution_count": 12,
   "metadata": {},
   "outputs": [
    {
     "name": "stderr",
     "output_type": "stream",
     "text": [
      "/data/nasif12/home_if12/avsec/workspace/kipoi/manuscript/m_kipoi/exp/tlearn/tfdragonn.py:62: FutureWarning: from_items is deprecated. Please use DataFrame.from_dict(dict(items), ...) instead. DataFrame.from_dict(OrderedDict(items)) may be used to preserve the key order.\n",
      "  (\"weights_file\", weights_file),\n",
      "/data/nasif12/home_if12/avsec/workspace/kipoi/manuscript/m_kipoi/exp/tlearn/tfdragonn.py:65: FutureWarning: 'argmax' is deprecated, use 'idxmax' instead. The behavior of 'argmax'\n",
      "will be corrected to return the positional maximum in the future.\n",
      "Use 'series.values.argmax' to get the position of the maximum now.\n",
      "  dfo['best_epoch'] = dfo.iloc[dfo.auPRC.argmax()].epoch\n"
     ]
    }
   ],
   "source": [
    "dfto = pd.concat([parse_log(f\"{ddir}/processed/tlearn/models/random/test/{encode_id}/tfdragonn.log\").assign(task=encode_id) \n",
    "                  for encode_id in encode_ids])"
   ]
  },
  {
   "cell_type": "code",
   "execution_count": 13,
   "metadata": {},
   "outputs": [],
   "source": [
    "# Merge Pre-trained + Random\n",
    "dft = pd.concat([dftn[['auPRC', 'task']].merge(anno, on='task').assign(Model=\"Pre-trained\"),\n",
    "                 dfto.merge(anno, on='task')[['task', 'Cell_Type', 'auPRC']].assign(Model='Random')], sort=True)"
   ]
  },
  {
   "cell_type": "code",
   "execution_count": 14,
   "metadata": {},
   "outputs": [
    {
     "data": {
      "text/html": [
       "<div>\n",
       "<style scoped>\n",
       "    .dataframe tbody tr th:only-of-type {\n",
       "        vertical-align: middle;\n",
       "    }\n",
       "\n",
       "    .dataframe tbody tr th {\n",
       "        vertical-align: top;\n",
       "    }\n",
       "\n",
       "    .dataframe thead th {\n",
       "        text-align: right;\n",
       "    }\n",
       "</style>\n",
       "<table border=\"1\" class=\"dataframe\">\n",
       "  <thead>\n",
       "    <tr style=\"text-align: right;\">\n",
       "      <th></th>\n",
       "      <th>Cell_Type</th>\n",
       "      <th>Model</th>\n",
       "      <th>auPRC</th>\n",
       "      <th>task</th>\n",
       "    </tr>\n",
       "  </thead>\n",
       "  <tbody>\n",
       "    <tr>\n",
       "      <th>0</th>\n",
       "      <td>GM12878</td>\n",
       "      <td>Pre-trained</td>\n",
       "      <td>0.4058</td>\n",
       "      <td>ENCSR000EMT</td>\n",
       "    </tr>\n",
       "    <tr>\n",
       "      <th>1</th>\n",
       "      <td>Cardiac Mesendoderm</td>\n",
       "      <td>Pre-trained</td>\n",
       "      <td>0.4743</td>\n",
       "      <td>ENCSR000EMX</td>\n",
       "    </tr>\n",
       "    <tr>\n",
       "      <th>2</th>\n",
       "      <td>Jakart Clone E61</td>\n",
       "      <td>Pre-trained</td>\n",
       "      <td>0.4763</td>\n",
       "      <td>ENCSR000EOS</td>\n",
       "    </tr>\n",
       "    <tr>\n",
       "      <th>...</th>\n",
       "      <td>...</td>\n",
       "      <td>...</td>\n",
       "      <td>...</td>\n",
       "      <td>...</td>\n",
       "    </tr>\n",
       "    <tr>\n",
       "      <th>7</th>\n",
       "      <td>Cardiac Mesendoderm</td>\n",
       "      <td>Random</td>\n",
       "      <td>0.3540</td>\n",
       "      <td>ENCSR000EMX</td>\n",
       "    </tr>\n",
       "    <tr>\n",
       "      <th>8</th>\n",
       "      <td>Lung</td>\n",
       "      <td>Random</td>\n",
       "      <td>0.3900</td>\n",
       "      <td>ENCSR076YBB;ENCSR456K...</td>\n",
       "    </tr>\n",
       "    <tr>\n",
       "      <th>9</th>\n",
       "      <td>Common myeloid progen...</td>\n",
       "      <td>Random</td>\n",
       "      <td>0.4590</td>\n",
       "      <td>ENCSR122VUW;ENCSR191E...</td>\n",
       "    </tr>\n",
       "  </tbody>\n",
       "</table>\n",
       "<p>20 rows × 4 columns</p>\n",
       "</div>"
      ],
      "text/plain": [
       "                   Cell_Type        Model   auPRC                      task\n",
       "0                    GM12878  Pre-trained  0.4058               ENCSR000EMT\n",
       "1        Cardiac Mesendoderm  Pre-trained  0.4743               ENCSR000EMX\n",
       "2           Jakart Clone E61  Pre-trained  0.4763               ENCSR000EOS\n",
       "..                       ...          ...     ...                       ...\n",
       "7        Cardiac Mesendoderm       Random  0.3540               ENCSR000EMX\n",
       "8                       Lung       Random  0.3900  ENCSR076YBB;ENCSR456K...\n",
       "9   Common myeloid progen...       Random  0.4590  ENCSR122VUW;ENCSR191E...\n",
       "\n",
       "[20 rows x 4 columns]"
      ]
     },
     "execution_count": 14,
     "metadata": {},
     "output_type": "execute_result"
    }
   ],
   "source": [
    "dft"
   ]
  },
  {
   "cell_type": "code",
   "execution_count": 15,
   "metadata": {},
   "outputs": [],
   "source": [
    "# Organize\n",
    "dft['Cell_Type_cat'] = pd.Categorical(dft['Cell_Type'], categories=dft.sort_values(\"Cell_Type\", ascending=True).Cell_Type.unique(), ordered=True)\n",
    "dft['Model'] = pd.Categorical(dft['Model'], categories=['Random', 'Pre-trained'], ordered=True)"
   ]
  },
  {
   "cell_type": "code",
   "execution_count": 16,
   "metadata": {},
   "outputs": [
    {
     "name": "stderr",
     "output_type": "stream",
     "text": [
      "/opt/modules/i12g/anaconda/3-5.0.1/envs/kipoi-manuscript/lib/python3.6/site-packages/plotnine/utils.py:281: FutureWarning: Method .as_matrix will be removed in a future version. Use .values instead.\n",
      "  ndistinct = ids.apply(len_unique, axis=0).as_matrix()\n",
      "/opt/modules/i12g/anaconda/3-5.0.1/envs/kipoi-manuscript/lib/python3.6/site-packages/pandas/core/generic.py:4384: FutureWarning: Attribute 'is_copy' is deprecated and will be removed in a future version.\n",
      "  object.__getattribute__(self, name)\n",
      "/opt/modules/i12g/anaconda/3-5.0.1/envs/kipoi-manuscript/lib/python3.6/site-packages/pandas/core/generic.py:4385: FutureWarning: Attribute 'is_copy' is deprecated and will be removed in a future version.\n",
      "  return object.__setattr__(self, name, value)\n",
      "/opt/modules/i12g/anaconda/3-5.0.1/envs/kipoi-manuscript/lib/python3.6/site-packages/plotnine/positions/position.py:188: FutureWarning: Method .as_matrix will be removed in a future version. Use .values instead.\n",
      "  intervals = data[xminmax].drop_duplicates().as_matrix().flatten()\n"
     ]
    },
    {
     "data": {
      "image/png": "[encoded data removed]",
      "text/plain": [
       "<Figure size 500x250 with 1 Axes>"
      ]
     },
     "metadata": {},
     "output_type": "display_data"
    },
    {
     "data": {
      "text/plain": [
       "<ggplot: (-9223363300608181518)>"
      ]
     },
     "execution_count": 16,
     "metadata": {},
     "output_type": "execute_result"
    }
   ],
   "source": [
    "plotnine.options.figure_size = (5,2.5)\n",
    "gplt = ggplot(aes(x='Cell_Type', y='auPRC', fill='Model'), data=dft) + \\\n",
    "    theme_classic() + \\\n",
    "    theme(axis_text_x=element_text(angle=20, hjust = 1)) + \\\n",
    "    theme(legend_title=element_blank(), \n",
    "          legend_box_margin=0,\n",
    "          legend_direction='horizontal', legend_position=(0.71,0.87)) + \\\n",
    "    geom_bar(stat='identity', position=\"dodge\") + \\\n",
    "    scale_fill_brewer(\"qual\", 3) + \\\n",
    "    xlab(\"Cell type\") + \\\n",
    "    ylab(\"auPRC (test)\")\n",
    "gplt"
   ]
  },
  {
   "cell_type": "code",
   "execution_count": 525,
   "metadata": {},
   "outputs": [
    {
     "name": "stderr",
     "output_type": "stream",
     "text": [
      "/opt/modules/i12g/anaconda/3-5.0.1/envs/kipoi-manuscript/lib/python3.6/site-packages/plotnine/ggplot.py:688: UserWarning: Saving 5 x 2.5 in image.\n",
      "  from_inches(height, units), units))\n",
      "/opt/modules/i12g/anaconda/3-5.0.1/envs/kipoi-manuscript/lib/python3.6/site-packages/plotnine/ggplot.py:689: UserWarning: Filename: plots/fig3b.pdf\n",
      "  warn('Filename: {}'.format(filename))\n",
      "/opt/modules/i12g/anaconda/3-5.0.1/envs/kipoi-manuscript/lib/python3.6/site-packages/plotnine/utils.py:281: FutureWarning: Method .as_matrix will be removed in a future version. Use .values instead.\n",
      "  ndistinct = ids.apply(len_unique, axis=0).as_matrix()\n",
      "/opt/modules/i12g/anaconda/3-5.0.1/envs/kipoi-manuscript/lib/python3.6/site-packages/pandas/core/generic.py:4384: FutureWarning: Attribute 'is_copy' is deprecated and will be removed in a future version.\n",
      "  object.__getattribute__(self, name)\n",
      "/opt/modules/i12g/anaconda/3-5.0.1/envs/kipoi-manuscript/lib/python3.6/site-packages/pandas/core/generic.py:4385: FutureWarning: Attribute 'is_copy' is deprecated and will be removed in a future version.\n",
      "  return object.__setattr__(self, name, value)\n",
      "/opt/modules/i12g/anaconda/3-5.0.1/envs/kipoi-manuscript/lib/python3.6/site-packages/plotnine/positions/position.py:188: FutureWarning: Method .as_matrix will be removed in a future version. Use .values instead.\n",
      "  intervals = data[xminmax].drop_duplicates().as_matrix().flatten()\n",
      "/opt/modules/i12g/anaconda/3-5.0.1/envs/kipoi-manuscript/lib/python3.6/site-packages/plotnine/ggplot.py:688: UserWarning: Saving 5 x 2.5 in image.\n",
      "  from_inches(height, units), units))\n",
      "/opt/modules/i12g/anaconda/3-5.0.1/envs/kipoi-manuscript/lib/python3.6/site-packages/plotnine/ggplot.py:689: UserWarning: Filename: plots/fig3b.png\n",
      "  warn('Filename: {}'.format(filename))\n"
     ]
    }
   ],
   "source": [
    "gplt.save(\"plots/fig3b.pdf\", dpi=600)\n",
    "gplt.save(\"plots/fig3b.png\", dpi=600)"
   ]
  },
  {
   "cell_type": "markdown",
   "metadata": {},
   "source": [
    "## Validation"
   ]
  },
  {
   "cell_type": "code",
   "execution_count": 17,
   "metadata": {},
   "outputs": [],
   "source": [
    "# Pre-trained\n",
    "dfvn = load_results(f\"{ddir}/processed/tlearn/models/transferred/{{task}}/eval/valid/epoch-{{epoch}}.metrics.json\").rename(columns={\"auprc\": \"auPRC\"})\n",
    "dfvn = dfvn.merge((dfvn.groupby(\"task\").epoch.max()-1).reset_index().rename(columns={\"epoch\": \"best_epoch\"}), on=\"task\", how=\"left\")"
   ]
  },
  {
   "cell_type": "code",
   "execution_count": 18,
   "metadata": {},
   "outputs": [
    {
     "name": "stderr",
     "output_type": "stream",
     "text": [
      "/data/nasif12/home_if12/avsec/workspace/kipoi/manuscript/m_kipoi/exp/tlearn/tfdragonn.py:62: FutureWarning: from_items is deprecated. Please use DataFrame.from_dict(dict(items), ...) instead. DataFrame.from_dict(OrderedDict(items)) may be used to preserve the key order.\n",
      "  (\"weights_file\", weights_file),\n",
      "/data/nasif12/home_if12/avsec/workspace/kipoi/manuscript/m_kipoi/exp/tlearn/tfdragonn.py:65: FutureWarning: 'argmax' is deprecated, use 'idxmax' instead. The behavior of 'argmax'\n",
      "will be corrected to return the positional maximum in the future.\n",
      "Use 'series.values.argmax' to get the position of the maximum now.\n",
      "  dfo['best_epoch'] = dfo.iloc[dfo.auPRC.argmax()].epoch\n"
     ]
    }
   ],
   "source": [
    "dfvo = pd.concat([parse_log(f\"{ddir}/processed/tlearn/models/random/valid/{encode_id}/tfdragonn.log\").assign(task=encode_id) \n",
    "                  for encode_id in encode_ids])"
   ]
  },
  {
   "cell_type": "code",
   "execution_count": 19,
   "metadata": {},
   "outputs": [],
   "source": [
    "# Merge pre-trained + random\n",
    "dfv = pd.concat([dfvn[['auPRC', 'epoch', 'best_epoch', 'task']].merge(anno, on='task').assign(Model='Pre-trained'),\n",
    "                 dfvo.merge(anno, on='task')[['auPRC', 'epoch', 'best_epoch', 'task', \"Cell_Type\"]].assign(Model='Random')])"
   ]
  },
  {
   "cell_type": "code",
   "execution_count": 20,
   "metadata": {},
   "outputs": [],
   "source": [
    "# Organize\n",
    "dfv['Model'] = pd.Categorical(dfv['Model'], categories=['Random', 'Pre-trained'], ordered=True)\n",
    "dfv_best_epoch = dfv[['Model', 'Cell_Type', 'best_epoch']].drop_duplicates()"
   ]
  },
  {
   "cell_type": "code",
   "execution_count": 21,
   "metadata": {},
   "outputs": [
    {
     "name": "stderr",
     "output_type": "stream",
     "text": [
      "/opt/modules/i12g/anaconda/3-5.0.1/envs/kipoi-manuscript/lib/python3.6/site-packages/plotnine/utils.py:281: FutureWarning: Method .as_matrix will be removed in a future version. Use .values instead.\n",
      "  ndistinct = ids.apply(len_unique, axis=0).as_matrix()\n",
      "/opt/modules/i12g/anaconda/3-5.0.1/envs/kipoi-manuscript/lib/python3.6/site-packages/pandas/core/generic.py:4384: FutureWarning: Attribute 'is_copy' is deprecated and will be removed in a future version.\n",
      "  object.__getattribute__(self, name)\n",
      "/opt/modules/i12g/anaconda/3-5.0.1/envs/kipoi-manuscript/lib/python3.6/site-packages/pandas/core/generic.py:4385: FutureWarning: Attribute 'is_copy' is deprecated and will be removed in a future version.\n",
      "  return object.__setattr__(self, name, value)\n"
     ]
    },
    {
     "data": {
      "image/png": "[encoded data removed]",
      "text/plain": [
       "<Figure size 1200x300 with 10 Axes>"
      ]
     },
     "metadata": {},
     "output_type": "display_data"
    },
    {
     "data": {
      "text/plain": [
       "<ggplot: (-9223363300610047004)>"
      ]
     },
     "execution_count": 21,
     "metadata": {},
     "output_type": "execute_result"
    }
   ],
   "source": [
    "plotnine.options.figure_size = (12,3)\n",
    "plt = ggplot(aes(x='epoch', y='auPRC', group='Model', color='Model'), data=dfv) + \\\n",
    "    geom_vline(aes(xintercept=\"best_epoch\", color='Model'), dfv_best_epoch, linetype='dashed', alpha=1) + \\\n",
    "    geom_line() + \\\n",
    "    geom_point() + \\\n",
    "    facet_wrap('~Cell_Type', nrow=2) + \\\n",
    "    theme_classic() + \\\n",
    "    scale_color_brewer(\"qual\", 3) + \\\n",
    "    theme(legend_position=(0.8, 0.3)) + \\\n",
    "    ylab(\"auPRC (validation)\")\n",
    "plt"
   ]
  },
  {
   "cell_type": "code",
   "execution_count": 22,
   "metadata": {},
   "outputs": [
    {
     "data": {
      "text/html": [
       "<div>\n",
       "<style scoped>\n",
       "    .dataframe tbody tr th:only-of-type {\n",
       "        vertical-align: middle;\n",
       "    }\n",
       "\n",
       "    .dataframe tbody tr th {\n",
       "        vertical-align: top;\n",
       "    }\n",
       "\n",
       "    .dataframe thead th {\n",
       "        text-align: right;\n",
       "    }\n",
       "</style>\n",
       "<table border=\"1\" class=\"dataframe\">\n",
       "  <thead>\n",
       "    <tr style=\"text-align: right;\">\n",
       "      <th></th>\n",
       "      <th>auPRC</th>\n",
       "      <th>epoch</th>\n",
       "      <th>best_epoch</th>\n",
       "      <th>task</th>\n",
       "      <th>Cell_Type</th>\n",
       "      <th>Model</th>\n",
       "    </tr>\n",
       "  </thead>\n",
       "  <tbody>\n",
       "    <tr>\n",
       "      <th>0</th>\n",
       "      <td>0.4138</td>\n",
       "      <td>1</td>\n",
       "      <td>2</td>\n",
       "      <td>ENCSR000EMT</td>\n",
       "      <td>GM12878</td>\n",
       "      <td>Pre-trained</td>\n",
       "    </tr>\n",
       "    <tr>\n",
       "      <th>1</th>\n",
       "      <td>0.4146</td>\n",
       "      <td>2</td>\n",
       "      <td>2</td>\n",
       "      <td>ENCSR000EMT</td>\n",
       "      <td>GM12878</td>\n",
       "      <td>Pre-trained</td>\n",
       "    </tr>\n",
       "    <tr>\n",
       "      <th>2</th>\n",
       "      <td>0.4135</td>\n",
       "      <td>3</td>\n",
       "      <td>2</td>\n",
       "      <td>ENCSR000EMT</td>\n",
       "      <td>GM12878</td>\n",
       "      <td>Pre-trained</td>\n",
       "    </tr>\n",
       "    <tr>\n",
       "      <th>...</th>\n",
       "      <td>...</td>\n",
       "      <td>...</td>\n",
       "      <td>...</td>\n",
       "      <td>...</td>\n",
       "      <td>...</td>\n",
       "      <td>...</td>\n",
       "    </tr>\n",
       "    <tr>\n",
       "      <th>208</th>\n",
       "      <td>0.4440</td>\n",
       "      <td>21</td>\n",
       "      <td>18</td>\n",
       "      <td>ENCSR122VUW;ENCSR191E...</td>\n",
       "      <td>Common myeloid progen...</td>\n",
       "      <td>Random</td>\n",
       "    </tr>\n",
       "    <tr>\n",
       "      <th>209</th>\n",
       "      <td>0.3990</td>\n",
       "      <td>22</td>\n",
       "      <td>18</td>\n",
       "      <td>ENCSR122VUW;ENCSR191E...</td>\n",
       "      <td>Common myeloid progen...</td>\n",
       "      <td>Random</td>\n",
       "    </tr>\n",
       "    <tr>\n",
       "      <th>210</th>\n",
       "      <td>0.4340</td>\n",
       "      <td>23</td>\n",
       "      <td>18</td>\n",
       "      <td>ENCSR122VUW;ENCSR191E...</td>\n",
       "      <td>Common myeloid progen...</td>\n",
       "      <td>Random</td>\n",
       "    </tr>\n",
       "  </tbody>\n",
       "</table>\n",
       "<p>249 rows × 6 columns</p>\n",
       "</div>"
      ],
      "text/plain": [
       "      auPRC  epoch  best_epoch                      task                 Cell_Type        Model\n",
       "0    0.4138      1           2               ENCSR000EMT                   GM12878  Pre-trained\n",
       "1    0.4146      2           2               ENCSR000EMT                   GM12878  Pre-trained\n",
       "2    0.4135      3           2               ENCSR000EMT                   GM12878  Pre-trained\n",
       "..      ...    ...         ...                       ...                       ...          ...\n",
       "208  0.4440     21          18  ENCSR122VUW;ENCSR191E...  Common myeloid progen...       Random\n",
       "209  0.3990     22          18  ENCSR122VUW;ENCSR191E...  Common myeloid progen...       Random\n",
       "210  0.4340     23          18  ENCSR122VUW;ENCSR191E...  Common myeloid progen...       Random\n",
       "\n",
       "[249 rows x 6 columns]"
      ]
     },
     "execution_count": 22,
     "metadata": {},
     "output_type": "execute_result"
    }
   ],
   "source": [
    "dfv"
   ]
  },
  {
   "cell_type": "code",
   "execution_count": 23,
   "metadata": {},
   "outputs": [
    {
     "name": "stdout",
     "output_type": "stream",
     "text": [
      "                           Random  Pre-trained  speedup\n",
      "Cell_Type                                              \n",
      "Brain                          15            3   5.0000\n",
      "Cardiac Mesendoderm            22            6   3.6667\n",
      "Common myeloid progenitor      23            3   7.6667\n",
      "GM12878                        23            3   7.6667\n",
      "Jakart Clone E61               27            5   5.4000\n",
      "K562                           18            5   3.6000\n",
      "Lung                           19            3   6.3333\n",
      "Mesenchymal Stem Cell          23            3   7.6667\n",
      "Mesendoderm                    21            3   7.0000\n",
      "Thymus                         20            4   5.0000\n"
     ]
    }
   ],
   "source": [
    "dfv_total_epoch_stacked = dfv[['Cell_Type', 'Model']].groupby(['Cell_Type', 'Model']).size().unstack()\n",
    "dfv_total_epoch_stacked.columns = ['Random', 'Pre-trained']\n",
    "dfv_total_epoch_stacked['speedup'] = dfv_total_epoch_stacked['Random']/dfv_total_epoch_stacked['Pre-trained'] \n",
    "print(dfv_total_epoch_stacked.to_string())"
   ]
  },
  {
   "cell_type": "code",
   "execution_count": 27,
   "metadata": {},
   "outputs": [
    {
     "data": {
      "text/html": [
       "<div>\n",
       "<style scoped>\n",
       "    .dataframe tbody tr th:only-of-type {\n",
       "        vertical-align: middle;\n",
       "    }\n",
       "\n",
       "    .dataframe tbody tr th {\n",
       "        vertical-align: top;\n",
       "    }\n",
       "\n",
       "    .dataframe thead th {\n",
       "        text-align: right;\n",
       "    }\n",
       "</style>\n",
       "<table border=\"1\" class=\"dataframe\">\n",
       "  <thead>\n",
       "    <tr style=\"text-align: right;\">\n",
       "      <th></th>\n",
       "      <th>Random</th>\n",
       "      <th>Pre-trained</th>\n",
       "      <th>speedup</th>\n",
       "    </tr>\n",
       "  </thead>\n",
       "  <tbody>\n",
       "    <tr>\n",
       "      <th>count</th>\n",
       "      <td>10.0</td>\n",
       "      <td>10.0</td>\n",
       "      <td>10.0</td>\n",
       "    </tr>\n",
       "    <tr>\n",
       "      <th>mean</th>\n",
       "      <td>21.1</td>\n",
       "      <td>3.8</td>\n",
       "      <td>5.9</td>\n",
       "    </tr>\n",
       "  </tbody>\n",
       "</table>\n",
       "</div>"
      ],
      "text/plain": [
       "       Random  Pre-trained  speedup\n",
       "count    10.0         10.0     10.0\n",
       "mean     21.1          3.8      5.9"
      ]
     },
     "execution_count": 27,
     "metadata": {},
     "output_type": "execute_result"
    }
   ],
   "source": [
    "dfv_total_epoch_stacked.describe().head(2)"
   ]
  },
  {
   "cell_type": "code",
   "execution_count": 29,
   "metadata": {},
   "outputs": [
    {
     "name": "stdout",
     "output_type": "stream",
     "text": [
      "                           Random  Pre-trained  speedup\n",
      "Cell_Type                                              \n",
      "Brain                          10            2   5.0000\n",
      "Cardiac Mesendoderm            17            5   3.4000\n",
      "Common myeloid progenitor      18            2   9.0000\n",
      "GM12878                        18            2   9.0000\n",
      "Jakart Clone E61               22            4   5.5000\n",
      "K562                           13            4   3.2500\n",
      "Lung                           14            2   7.0000\n",
      "Mesenchymal Stem Cell          18            2   9.0000\n",
      "Mesendoderm                    16            2   8.0000\n",
      "Thymus                         17            3   5.6667\n"
     ]
    }
   ],
   "source": [
    "dfv_best_epoch_stacked = dfv_best_epoch.set_index(['Cell_Type', 'Model']).best_epoch.unstack()\n",
    "dfv_best_epoch_stacked.columns = ['Random', 'Pre-trained']\n",
    "dfv_best_epoch_stacked['speedup'] = dfv_best_epoch_stacked['Random']/dfv_best_epoch_stacked['Pre-trained'] \n",
    "print(dfv_best_epoch_stacked.to_string())"
   ]
  },
  {
   "cell_type": "code",
   "execution_count": 30,
   "metadata": {},
   "outputs": [
    {
     "data": {
      "text/html": [
       "<div>\n",
       "<style scoped>\n",
       "    .dataframe tbody tr th:only-of-type {\n",
       "        vertical-align: middle;\n",
       "    }\n",
       "\n",
       "    .dataframe tbody tr th {\n",
       "        vertical-align: top;\n",
       "    }\n",
       "\n",
       "    .dataframe thead th {\n",
       "        text-align: right;\n",
       "    }\n",
       "</style>\n",
       "<table border=\"1\" class=\"dataframe\">\n",
       "  <thead>\n",
       "    <tr style=\"text-align: right;\">\n",
       "      <th></th>\n",
       "      <th>Random</th>\n",
       "      <th>Pre-trained</th>\n",
       "      <th>speedup</th>\n",
       "    </tr>\n",
       "  </thead>\n",
       "  <tbody>\n",
       "    <tr>\n",
       "      <th>count</th>\n",
       "      <td>10.0</td>\n",
       "      <td>10.0</td>\n",
       "      <td>10.0000</td>\n",
       "    </tr>\n",
       "    <tr>\n",
       "      <th>mean</th>\n",
       "      <td>16.3</td>\n",
       "      <td>2.8</td>\n",
       "      <td>6.4817</td>\n",
       "    </tr>\n",
       "  </tbody>\n",
       "</table>\n",
       "</div>"
      ],
      "text/plain": [
       "       Random  Pre-trained  speedup\n",
       "count    10.0         10.0  10.0000\n",
       "mean     16.3          2.8   6.4817"
      ]
     },
     "execution_count": 30,
     "metadata": {},
     "output_type": "execute_result"
    }
   ],
   "source": [
    "dfv_best_epoch_stacked.describe().head(2)"
   ]
  },
  {
   "cell_type": "code",
   "execution_count": 31,
   "metadata": {},
   "outputs": [
    {
     "name": "stderr",
     "output_type": "stream",
     "text": [
      "/opt/modules/i12g/anaconda/3-5.0.1/envs/kipoi-manuscript/lib/python3.6/site-packages/plotnine/ggplot.py:688: UserWarning: Saving 12 x 3 in image.\n",
      "  from_inches(height, units), units))\n",
      "/opt/modules/i12g/anaconda/3-5.0.1/envs/kipoi-manuscript/lib/python3.6/site-packages/plotnine/ggplot.py:689: UserWarning: Filename: plots/fig3c.pdf\n",
      "  warn('Filename: {}'.format(filename))\n",
      "/opt/modules/i12g/anaconda/3-5.0.1/envs/kipoi-manuscript/lib/python3.6/site-packages/plotnine/utils.py:281: FutureWarning: Method .as_matrix will be removed in a future version. Use .values instead.\n",
      "  ndistinct = ids.apply(len_unique, axis=0).as_matrix()\n",
      "/opt/modules/i12g/anaconda/3-5.0.1/envs/kipoi-manuscript/lib/python3.6/site-packages/pandas/core/generic.py:4384: FutureWarning: Attribute 'is_copy' is deprecated and will be removed in a future version.\n",
      "  object.__getattribute__(self, name)\n",
      "/opt/modules/i12g/anaconda/3-5.0.1/envs/kipoi-manuscript/lib/python3.6/site-packages/pandas/core/generic.py:4385: FutureWarning: Attribute 'is_copy' is deprecated and will be removed in a future version.\n",
      "  return object.__setattr__(self, name, value)\n",
      "/opt/modules/i12g/anaconda/3-5.0.1/envs/kipoi-manuscript/lib/python3.6/site-packages/plotnine/ggplot.py:688: UserWarning: Saving 12 x 3 in image.\n",
      "  from_inches(height, units), units))\n",
      "/opt/modules/i12g/anaconda/3-5.0.1/envs/kipoi-manuscript/lib/python3.6/site-packages/plotnine/ggplot.py:689: UserWarning: Filename: plots/fig3c.png\n",
      "  warn('Filename: {}'.format(filename))\n"
     ]
    }
   ],
   "source": [
    "plt.save(\"plots/fig3c.pdf\", dpi=600)\n",
    "plt.save(\"plots/fig3c.png\", dpi=600)"
   ]
  }
 ],
 "metadata": {
  "kernelspec": {
   "display_name": "Python [conda env:kipoi-manuscript]",
   "language": "python",
   "name": "conda-env-kipoi-manuscript-py"
  },
  "language_info": {
   "codemirror_mode": {
    "name": "ipython",
    "version": 3
   },
   "file_extension": ".py",
   "mimetype": "text/x-python",
   "name": "python",
   "nbconvert_exporter": "python",
   "pygments_lexer": "ipython3",
   "version": "3.6.5"
  }
 },
 "nbformat": 4,
 "nbformat_minor": 2
}
