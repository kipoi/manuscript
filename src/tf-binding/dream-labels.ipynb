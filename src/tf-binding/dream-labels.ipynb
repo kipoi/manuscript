{
 "cells": [
  {
   "cell_type": "markdown",
   "metadata": {},
   "source": [
    "## Extract labels from DREAM\n",
    "\n",
    "- Nanog: https://www.synapse.org/#!Synapse:syn8442110\n",
    "- CEBPB: https://www.synapse.org/#!Synapse:syn8442119\n",
    "- JUND: https://www.synapse.org/#!Synapse:syn8442086"
   ]
  },
  {
   "cell_type": "markdown",
   "metadata": {},
   "source": [
    "- U = unbound (negatives)\n",
    "- A = ambiguous (not used for prediction evaluation)\n",
    "- B = bound (positives)"
   ]
  },
  {
   "cell_type": "code",
   "execution_count": 35,
   "metadata": {},
   "outputs": [],
   "source": [
    "label_map = {\"U\": 0, \"A\": -1, \"B\": 1}"
   ]
  },
  {
   "cell_type": "code",
   "execution_count": 1,
   "metadata": {},
   "outputs": [
    {
     "name": "stderr",
     "output_type": "stream",
     "text": [
      "Using TensorFlow backend.\n"
     ]
    }
   ],
   "source": [
    "from m_kipoi.config import get_data_dir"
   ]
  },
  {
   "cell_type": "code",
   "execution_count": 2,
   "metadata": {},
   "outputs": [],
   "source": [
    "ddir = get_data_dir()"
   ]
  },
  {
   "cell_type": "code",
   "execution_count": 5,
   "metadata": {},
   "outputs": [],
   "source": [
    "import pandas as pd"
   ]
  },
  {
   "cell_type": "code",
   "execution_count": 10,
   "metadata": {},
   "outputs": [],
   "source": [
    "from pathlib import Path"
   ]
  },
  {
   "cell_type": "code",
   "execution_count": 11,
   "metadata": {},
   "outputs": [],
   "source": [
    "tfdir = Path(f\"{ddir}/raw/tfbinding/eval/tf-DREAM\")"
   ]
  },
  {
   "cell_type": "code",
   "execution_count": 12,
   "metadata": {},
   "outputs": [
    {
     "name": "stdout",
     "output_type": "stream",
     "text": [
      "\u001b[0m\u001b[01;31mCEBPB.train.labels.tsv.gz\u001b[0m\n",
      "chr8_wide_bin101_flank0_stride101.CEBPB.HeLa-S3.intervals_file.tsv\n",
      "\u001b[01;31mchr8_wide_bin101_flank0_stride101.CEBPB.HeLa-S3.intervals_file.tsv.gz\u001b[0m\n",
      "chr8_wide_bin101_flank0_stride101.JUND.HepG2.intervals_file.tsv\n",
      "\u001b[01;31mchr8_wide_bin101_flank0_stride101.JUND.HepG2.intervals_file.tsv.gz\u001b[0m\n",
      "chr8_wide_bin101_flank0_stride101.MAFK.K562.intervals_file.tsv\n",
      "\u001b[01;31mchr8_wide_bin101_flank0_stride101.MAFK.K562.intervals_file.tsv.gz\u001b[0m\n",
      "chr8_wide_bin101_flank0_stride101.NANOG.H1-hESC.intervals_file.tsv\n",
      "\u001b[01;31mchr8_wide_bin101_flank0_stride101.NANOG.H1-hESC.intervals_file.tsv.gz\u001b[0m\n",
      "\u001b[01;31mDNASE.H1-hESC.relaxed.narrowPeak.gz\u001b[0m\n",
      "\u001b[01;31mDNASE.HeLa-S3.relaxed.narrowPeak.gz\u001b[0m\n",
      "\u001b[01;31mDNASE.HepG2.relaxed.narrowPeak.gz\u001b[0m\n",
      "\u001b[01;31mDNASE.K562.relaxed.narrowPeak.gz\u001b[0m\n",
      "\u001b[01;31mJUND.train.labels.tsv.gz\u001b[0m\n",
      "\u001b[01;31mNANOG.train.labels.tsv.gz\u001b[0m\n",
      "README.md\n"
     ]
    }
   ],
   "source": [
    "ls {tfdir}"
   ]
  },
  {
   "cell_type": "code",
   "execution_count": 19,
   "metadata": {},
   "outputs": [
    {
     "name": "stdout",
     "output_type": "stream",
     "text": [
      "\u001b[31m\n",
      "WARNING: Dependencies for model source 'kipoi' stored at local_path /data/nasif12/home_if12/avsec/.kipoi/models/ not satisfied.: \n",
      "---\n",
      "Installed package 'kipoi=0.6.3' doesn't comply with 'kipoi>=0.6.16'\n",
      "---\n",
      "install or update the missing packages\n",
      "\u001b[0m\n",
      "Note: If you don't want to auto_update the model source, \n",
      "add `auto_update: False` to ~/.kipoi/config.yaml\n",
      "\n",
      "\u001b[31m\n",
      "WARNING: Dependencies for model source 'kipoi_old' stored at local_path /data/nasif12/home_if12/avsec/.kipoi/models_old/ not satisfied.: \n",
      "---\n",
      "Installed package 'kipoi=0.6.3' doesn't comply with 'kipoi>=0.6.9'\n",
      "---\n",
      "install or update the missing packages\n",
      "\u001b[0m\n",
      "Note: If you don't want to auto_update the model source, \n",
      "add `auto_update: False` to ~/.kipoi/config.yaml\n",
      "\n"
     ]
    }
   ],
   "source": [
    "from m_kipoi.exp.tfbinding.config import TF_C_pairs"
   ]
  },
  {
   "cell_type": "markdown",
   "metadata": {},
   "source": [
    "### Implement"
   ]
  },
  {
   "cell_type": "code",
   "execution_count": 20,
   "metadata": {},
   "outputs": [
    {
     "data": {
      "text/plain": [
       "[('CEBPB', 'HeLa-S3'),\n",
       " ('JUND', 'HepG2'),\n",
       " ('MAFK', 'K562'),\n",
       " ('NANOG', 'H1-hESC')]"
      ]
     },
     "execution_count": 20,
     "metadata": {},
     "output_type": "execute_result"
    }
   ],
   "source": [
    "TF_C_pairs"
   ]
  },
  {
   "cell_type": "code",
   "execution_count": 21,
   "metadata": {},
   "outputs": [],
   "source": [
    "cell_types = dict(TF_C_pairs)"
   ]
  },
  {
   "cell_type": "code",
   "execution_count": 22,
   "metadata": {},
   "outputs": [
    {
     "data": {
      "text/plain": [
       "{'CEBPB': 'HeLa-S3', 'JUND': 'HepG2', 'MAFK': 'K562', 'NANOG': 'H1-hESC'}"
      ]
     },
     "execution_count": 22,
     "metadata": {},
     "output_type": "execute_result"
    }
   ],
   "source": [
    "cell_types"
   ]
  },
  {
   "cell_type": "code",
   "execution_count": 23,
   "metadata": {},
   "outputs": [],
   "source": [
    "tf = 'JUND'"
   ]
  },
  {
   "cell_type": "code",
   "execution_count": null,
   "metadata": {},
   "outputs": [],
   "source": []
  },
  {
   "cell_type": "code",
   "execution_count": 60,
   "metadata": {},
   "outputs": [
    {
     "data": {
      "text/html": [
       "<div>\n",
       "<style scoped>\n",
       "    .dataframe tbody tr th:only-of-type {\n",
       "        vertical-align: middle;\n",
       "    }\n",
       "\n",
       "    .dataframe tbody tr th {\n",
       "        vertical-align: top;\n",
       "    }\n",
       "\n",
       "    .dataframe thead th {\n",
       "        text-align: right;\n",
       "    }\n",
       "</style>\n",
       "<table border=\"1\" class=\"dataframe\">\n",
       "  <thead>\n",
       "    <tr style=\"text-align: right;\">\n",
       "      <th></th>\n",
       "      <th>chr</th>\n",
       "      <th>start</th>\n",
       "      <th>stop</th>\n",
       "      <th>HCT116</th>\n",
       "      <th>HeLa-S3</th>\n",
       "      <th>HepG2</th>\n",
       "      <th>K562</th>\n",
       "      <th>MCF-7</th>\n",
       "    </tr>\n",
       "  </thead>\n",
       "  <tbody>\n",
       "    <tr>\n",
       "      <th>0</th>\n",
       "      <td>chr1</td>\n",
       "      <td>600</td>\n",
       "      <td>800</td>\n",
       "      <td>U</td>\n",
       "      <td>U</td>\n",
       "      <td>U</td>\n",
       "      <td>U</td>\n",
       "      <td>U</td>\n",
       "    </tr>\n",
       "    <tr>\n",
       "      <th>1</th>\n",
       "      <td>chr1</td>\n",
       "      <td>650</td>\n",
       "      <td>850</td>\n",
       "      <td>U</td>\n",
       "      <td>U</td>\n",
       "      <td>U</td>\n",
       "      <td>U</td>\n",
       "      <td>U</td>\n",
       "    </tr>\n",
       "    <tr>\n",
       "      <th>2</th>\n",
       "      <td>chr1</td>\n",
       "      <td>700</td>\n",
       "      <td>900</td>\n",
       "      <td>U</td>\n",
       "      <td>U</td>\n",
       "      <td>U</td>\n",
       "      <td>U</td>\n",
       "      <td>U</td>\n",
       "    </tr>\n",
       "    <tr>\n",
       "      <th>3</th>\n",
       "      <td>chr1</td>\n",
       "      <td>750</td>\n",
       "      <td>950</td>\n",
       "      <td>U</td>\n",
       "      <td>U</td>\n",
       "      <td>U</td>\n",
       "      <td>U</td>\n",
       "      <td>U</td>\n",
       "    </tr>\n",
       "    <tr>\n",
       "      <th>4</th>\n",
       "      <td>chr1</td>\n",
       "      <td>800</td>\n",
       "      <td>1000</td>\n",
       "      <td>U</td>\n",
       "      <td>U</td>\n",
       "      <td>U</td>\n",
       "      <td>U</td>\n",
       "      <td>U</td>\n",
       "    </tr>\n",
       "  </tbody>\n",
       "</table>\n",
       "</div>"
      ],
      "text/plain": [
       "    chr  start  stop HCT116 HeLa-S3 HepG2 K562 MCF-7\n",
       "0  chr1    600   800      U       U     U    U     U\n",
       "1  chr1    650   850      U       U     U    U     U\n",
       "2  chr1    700   900      U       U     U    U     U\n",
       "3  chr1    750   950      U       U     U    U     U\n",
       "4  chr1    800  1000      U       U     U    U     U"
      ]
     },
     "execution_count": 60,
     "metadata": {},
     "output_type": "execute_result"
    }
   ],
   "source": [
    "df = pd.read_csv(tfdir / f'{tf}.train.labels.tsv.gz', sep='\\t', nrows=2000)\n",
    "#df = df[df.chr == 'chr8']\n",
    "df.head()"
   ]
  },
  {
   "cell_type": "code",
   "execution_count": 61,
   "metadata": {},
   "outputs": [
    {
     "data": {
      "text/plain": [
       "'HepG2'"
      ]
     },
     "execution_count": 61,
     "metadata": {},
     "output_type": "execute_result"
    }
   ],
   "source": [
    "cell_types[tf]"
   ]
  },
  {
   "cell_type": "code",
   "execution_count": 62,
   "metadata": {},
   "outputs": [],
   "source": [
    "assert cell_types[tf] in df"
   ]
  },
  {
   "cell_type": "code",
   "execution_count": 63,
   "metadata": {},
   "outputs": [],
   "source": [
    "df = df[['chr', 'start', 'stop', cell_types[tf]]]"
   ]
  },
  {
   "cell_type": "code",
   "execution_count": 64,
   "metadata": {},
   "outputs": [
    {
     "data": {
      "text/plain": [
       "'U'"
      ]
     },
     "execution_count": 64,
     "metadata": {},
     "output_type": "execute_result"
    }
   ],
   "source": [
    "df['HepG2'][0]"
   ]
  },
  {
   "cell_type": "code",
   "execution_count": 65,
   "metadata": {},
   "outputs": [
    {
     "data": {
      "text/html": [
       "<div>\n",
       "<style scoped>\n",
       "    .dataframe tbody tr th:only-of-type {\n",
       "        vertical-align: middle;\n",
       "    }\n",
       "\n",
       "    .dataframe tbody tr th {\n",
       "        vertical-align: top;\n",
       "    }\n",
       "\n",
       "    .dataframe thead th {\n",
       "        text-align: right;\n",
       "    }\n",
       "</style>\n",
       "<table border=\"1\" class=\"dataframe\">\n",
       "  <thead>\n",
       "    <tr style=\"text-align: right;\">\n",
       "      <th></th>\n",
       "      <th>chr</th>\n",
       "      <th>start</th>\n",
       "      <th>stop</th>\n",
       "      <th>HepG2</th>\n",
       "    </tr>\n",
       "  </thead>\n",
       "  <tbody>\n",
       "    <tr>\n",
       "      <th>0</th>\n",
       "      <td>chr1</td>\n",
       "      <td>600</td>\n",
       "      <td>800</td>\n",
       "      <td>U</td>\n",
       "    </tr>\n",
       "    <tr>\n",
       "      <th>1</th>\n",
       "      <td>chr1</td>\n",
       "      <td>650</td>\n",
       "      <td>850</td>\n",
       "      <td>U</td>\n",
       "    </tr>\n",
       "    <tr>\n",
       "      <th>2</th>\n",
       "      <td>chr1</td>\n",
       "      <td>700</td>\n",
       "      <td>900</td>\n",
       "      <td>U</td>\n",
       "    </tr>\n",
       "    <tr>\n",
       "      <th>3</th>\n",
       "      <td>chr1</td>\n",
       "      <td>750</td>\n",
       "      <td>950</td>\n",
       "      <td>U</td>\n",
       "    </tr>\n",
       "    <tr>\n",
       "      <th>4</th>\n",
       "      <td>chr1</td>\n",
       "      <td>800</td>\n",
       "      <td>1000</td>\n",
       "      <td>U</td>\n",
       "    </tr>\n",
       "  </tbody>\n",
       "</table>\n",
       "</div>"
      ],
      "text/plain": [
       "    chr  start  stop HepG2\n",
       "0  chr1    600   800     U\n",
       "1  chr1    650   850     U\n",
       "2  chr1    700   900     U\n",
       "3  chr1    750   950     U\n",
       "4  chr1    800  1000     U"
      ]
     },
     "execution_count": 65,
     "metadata": {},
     "output_type": "execute_result"
    }
   ],
   "source": [
    "df.head()"
   ]
  },
  {
   "cell_type": "code",
   "execution_count": 66,
   "metadata": {},
   "outputs": [],
   "source": [
    "df[cell_types[tf]] = df[cell_types[tf]].map(label_map)"
   ]
  },
  {
   "cell_type": "code",
   "execution_count": 67,
   "metadata": {},
   "outputs": [],
   "source": [
    "df.head()\n",
    "\n",
    "df.to_csv(tfdir / f'DREAM.chr8.{tf}.{cell_types[tf]}.bed', sep='\\t', index=False, header=None)"
   ]
  },
  {
   "cell_type": "code",
   "execution_count": 68,
   "metadata": {},
   "outputs": [],
   "source": [
    "a = tfdir / f'DREAM.chr8.{tf}.{cell_types[tf]}.bed'"
   ]
  },
  {
   "cell_type": "code",
   "execution_count": 69,
   "metadata": {},
   "outputs": [
    {
     "name": "stdout",
     "output_type": "stream",
     "text": [
      "chr1\t600\t800\t0\n",
      "chr1\t650\t850\t0\n",
      "chr1\t700\t900\t0\n",
      "chr1\t750\t950\t0\n",
      "chr1\t800\t1000\t0\n",
      "chr1\t850\t1050\t0\n",
      "chr1\t900\t1100\t0\n",
      "chr1\t950\t1150\t0\n",
      "chr1\t1000\t1200\t0\n",
      "chr1\t1050\t1250\t0\n"
     ]
    }
   ],
   "source": [
    "!head {a}"
   ]
  },
  {
   "cell_type": "markdown",
   "metadata": {},
   "source": [
    "### Run the script"
   ]
  },
  {
   "cell_type": "code",
   "execution_count": 71,
   "metadata": {},
   "outputs": [
    {
     "name": "stdout",
     "output_type": "stream",
     "text": [
      "CEBPB\n",
      "JUND\n",
      "NANOG\n"
     ]
    }
   ],
   "source": [
    "for tf in ['CEBPB', 'JUND', 'NANOG']:\n",
    "    print(tf)\n",
    "    df = pd.read_csv(tfdir / f'{tf}.train.labels.tsv.gz', sep='\\t')\n",
    "\n",
    "    # subset the table\n",
    "    df = df[df.chr == 'chr8']\n",
    "    assert cell_types[tf] in df\n",
    "    df = df[['chr', 'start', 'stop', cell_types[tf]]]\n",
    "\n",
    "    # map labels\n",
    "    df[cell_types[tf]] = df[cell_types[tf]].map(label_map)\n",
    "\n",
    "    # save to file\n",
    "    df.to_csv(tfdir / f'DREAM.chr8.{tf}.{cell_types[tf]}.bed', sep='\\t', index=False, header=None)"
   ]
  },
  {
   "cell_type": "code",
   "execution_count": 76,
   "metadata": {},
   "outputs": [
    {
     "data": {
      "text/plain": [
       "['DREAM.chr8.CEBPB.HeLa-S3.bed',\n",
       " 'DREAM.chr8.JUND.HepG2.bed',\n",
       " 'DREAM.chr8.NANOG.H1-hESC.bed']"
      ]
     },
     "execution_count": 76,
     "metadata": {},
     "output_type": "execute_result"
    }
   ],
   "source": [
    "[f'DREAM.chr8.{tf}.{cell_types[tf]}.bed' for tf in ['CEBPB', 'JUND', 'NANOG']]"
   ]
  }
 ],
 "metadata": {
  "kernelspec": {
   "display_name": "Python [conda env:kipoi-manuscript]",
   "language": "python",
   "name": "conda-env-kipoi-manuscript-py"
  },
  "language_info": {
   "codemirror_mode": {
    "name": "ipython",
    "version": 3
   },
   "file_extension": ".py",
   "mimetype": "text/x-python",
   "name": "python",
   "nbconvert_exporter": "python",
   "pygments_lexer": "ipython3",
   "version": "3.6.5"
  }
 },
 "nbformat": 4,
 "nbformat_minor": 2
}
